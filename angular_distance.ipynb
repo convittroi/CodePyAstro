{
 "cells": [
  {
   "cell_type": "code",
   "execution_count": 1,
   "metadata": {},
   "outputs": [
    {
     "name": "stdout",
     "output_type": "stream",
     "text": [
      "Pixel distance:  19.08 pixels\n"
     ]
    }
   ],
   "source": [
    "from skimage import io, measure\n",
    "import numpy as np \n",
    "import matplotlib.pyplot as plt\n",
    "import cv2 \n",
    "castor= io.imread('2023-12-22-1407_5-CapObj_0000.PNG', as_gray=True)\n",
    "threshold = castor > np.max(castor)*0.9\n",
    "contours=measure.find_contours(threshold,0.8)\n",
    "contours=sorted(contours,key=len,reverse=True)\n",
    "\n",
    "castor_contours=contours[0]\n",
    "star_contours=contours[1]\n",
    "\n",
    "castor_center=np.mean(castor_contours,axis=0)\n",
    "star_center=np.mean(star_contours,axis=0)\n",
    "\n",
    "castor_y,castor_x=castor_center\n",
    "star_y,star_x=star_center\n",
    "\n",
    "pixel_dist = np.sqrt((castor_x-star_x)**2+(castor_y-star_y)**2)\n",
    "print(\"Pixel distance: \",np.round(pixel_dist,2) ,\"pixels\")\n",
    "\n",
    "\n",
    "\n"
   ]
  },
  {
   "cell_type": "code",
   "execution_count": 2,
   "metadata": {},
   "outputs": [
    {
     "name": "stdout",
     "output_type": "stream",
     "text": [
      "Angular distance:  0.01 degrees\n"
     ]
    }
   ],
   "source": [
    "\n",
    "fov_long=1.01\n",
    "fov_short=0.68\n",
    "\n",
    "img_width=castor.shape[1]\n",
    "img_height=castor.shape[0]\n",
    "ang_dist_long = pixel_dist*fov_long/img_width\n",
    "ang_dist_short = pixel_dist*fov_short/img_height\n",
    "ang_dist = np.sqrt(ang_dist_long**2+ang_dist_short**2)\n",
    "print(\"Angular distance: \",np.round(ang_dist,2),\"degrees\")"
   ]
  }
 ],
 "metadata": {
  "kernelspec": {
   "display_name": "Python 3",
   "language": "python",
   "name": "python3"
  },
  "language_info": {
   "codemirror_mode": {
    "name": "ipython",
    "version": 3
   },
   "file_extension": ".py",
   "mimetype": "text/x-python",
   "name": "python",
   "nbconvert_exporter": "python",
   "pygments_lexer": "ipython3",
   "version": "3.12.0"
  }
 },
 "nbformat": 4,
 "nbformat_minor": 2
}
